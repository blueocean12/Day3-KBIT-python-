{
 "cells": [
  {
   "cell_type": "markdown",
   "metadata": {},
   "source": [
    "### Q1. 넒이 계산기\n",
    "- 도형의 모양과 정보를 입력받아 넓이를 출력하는 함수를 작성하세요.\n",
    "- 매개변수 : width = 0, height = 0, radius = 0, pi = 3.14, shape = '' (모두 디폴트 매개변수로 설정)\n",
    "- shape가 'circle' 이면 원의 넓이, 'triangle' 이면 삼각형의 넓이, 'rectangle' 이면 사각형의 넓이를 출력하세요."
   ]
  },
  {
   "cell_type": "code",
   "execution_count": 2,
   "metadata": {
    "ExecuteTime": {
     "end_time": "2022-02-17T08:30:50.493788Z",
     "start_time": "2022-02-17T08:30:50.470424Z"
    }
   },
   "outputs": [],
   "source": [
    "def getArea(width = 0, height = 0, radius = 0, pi = 3.14, shape = '') :\n",
    "    if shape == \"rectangle\":\n",
    "        print(width * height)\n",
    "\n"
   ]
  },
  {
   "cell_type": "code",
   "execution_count": 1,
   "metadata": {
    "ExecuteTime": {
     "end_time": "2022-02-17T08:30:50.611060Z",
     "start_time": "2022-02-17T08:30:50.595058Z"
    }
   },
   "outputs": [
    {
     "ename": "NameError",
     "evalue": "name 'getArea' is not defined",
     "output_type": "error",
     "traceback": [
      "\u001b[1;31m---------------------------------------------------------------------------\u001b[0m",
      "\u001b[1;31mNameError\u001b[0m                                 Traceback (most recent call last)",
      "Input \u001b[1;32mIn [1]\u001b[0m, in \u001b[0;36m<cell line: 2>\u001b[1;34m()\u001b[0m\n\u001b[0;32m      1\u001b[0m \u001b[38;5;66;03m# width 10, height 20 인 직사각형의 넓이를 구하세요.\u001b[39;00m\n\u001b[1;32m----> 2\u001b[0m \u001b[43mgetArea\u001b[49m(\u001b[38;5;241m10\u001b[39m, \u001b[38;5;241m20\u001b[39m, shape \u001b[38;5;241m=\u001b[39m \u001b[38;5;124m'\u001b[39m\u001b[38;5;124mrectangle\u001b[39m\u001b[38;5;124m'\u001b[39m)\n\u001b[0;32m      4\u001b[0m \u001b[38;5;66;03m# width 10, height 20 인 삼각형의 넓이를 구하세요.\u001b[39;00m\n\u001b[0;32m      5\u001b[0m getArea(\u001b[38;5;241m10\u001b[39m, \u001b[38;5;241m20\u001b[39m, shape \u001b[38;5;241m=\u001b[39m \u001b[38;5;124m'\u001b[39m\u001b[38;5;124mtriangle\u001b[39m\u001b[38;5;124m'\u001b[39m)\n",
      "\u001b[1;31mNameError\u001b[0m: name 'getArea' is not defined"
     ]
    }
   ],
   "source": [
    "# width 10, height 20 인 직사각형의 넓이를 구하세요.\n",
    "getArea(10, 20, shape = 'rectangle')\n",
    "\n",
    "# width 10, height 20 인 삼각형의 넓이를 구하세요.\n",
    "getArea(10, 20, shape = 'triangle')\n",
    "\n",
    "# radius 10 인 원의 넓이를 구하세요.\n",
    "getArea(radius = 10, shape = 'circle')\n",
    "\n",
    "# radius 10, pi 3.141592 인 원의 넓이를 구하세요.\n",
    "getArea(radius = 10, pi = 3.141592, shape = 'circle')"
   ]
  },
  {
   "cell_type": "markdown",
   "metadata": {},
   "source": [
    "<br/>\n",
    "<br/>\n",
    "<br/>\n",
    "<br/>"
   ]
  },
  {
   "cell_type": "markdown",
   "metadata": {},
   "source": [
    "### Q2. 학점 계산기\n",
    "- 학점을 입력받아 평균 점수를 반환하는 함수를 작성하세요.\n",
    "- 매개변수 : grades (학점이 ','로 구분되어있는 문자열)\n",
    "    - ex) \"A+,B,D,B+,C\"\n",
    "- 다음 점수 변환 규칙에 따라 계산하여 평균 점수를 리턴\n",
    "    - 'A+' : 4.5, 'A' : 4.0, 'B+' : 3.5, 'B': 3.0, 'C' : 2.0, 'D' : 1.0"
   ]
  },
  {
   "cell_type": "code",
   "execution_count": 2,
   "metadata": {
    "ExecuteTime": {
     "end_time": "2022-02-17T08:35:18.674040Z",
     "start_time": "2022-02-17T08:35:18.650695Z"
    }
   },
   "outputs": [
    {
     "ename": "IndentationError",
     "evalue": "unexpected indent (4261781883.py, line 3)",
     "output_type": "error",
     "traceback": [
      "\u001b[1;36m  Input \u001b[1;32mIn [2]\u001b[1;36m\u001b[0m\n\u001b[1;33m    total_score = 0.0\u001b[0m\n\u001b[1;37m    ^\u001b[0m\n\u001b[1;31mIndentationError\u001b[0m\u001b[1;31m:\u001b[0m unexpected indent\n"
     ]
    }
   ],
   "source": [
    "\n",
    "\n",
    "def getMeanScore(grades) :\n",
    "      scores = grades.split(',')\n",
    "        total_score = 0.0\n",
    "        score_dict = {'A+' : 4.5, 'A' : 4.0, 'B+' : 3.5, 'B': 3.0, 'C' : 2.0, 'D' : 1.0}\n",
    "        for i in scores : \n",
    "            total_score += score_dict[i]\n",
    "        return total_score / len(scores)\n",
    "    \n",
    "\n",
    "   \n"
   ]
  },
  {
   "cell_type": "code",
   "execution_count": 1,
   "metadata": {
    "ExecuteTime": {
     "end_time": "2022-02-17T08:35:22.585550Z",
     "start_time": "2022-02-17T08:35:18.800880Z"
    }
   },
   "outputs": [
    {
     "name": "stdout",
     "output_type": "stream",
     "text": [
      "학점을 입력하세요A+,B,D,B+,C\n"
     ]
    },
    {
     "ename": "NameError",
     "evalue": "name 'getMeanScore' is not defined",
     "output_type": "error",
     "traceback": [
      "\u001b[1;31m---------------------------------------------------------------------------\u001b[0m",
      "\u001b[1;31mNameError\u001b[0m                                 Traceback (most recent call last)",
      "Input \u001b[1;32mIn [1]\u001b[0m, in \u001b[0;36m<cell line: 3>\u001b[1;34m()\u001b[0m\n\u001b[0;32m      1\u001b[0m \u001b[38;5;66;03m# 코드를 실행하세요.\u001b[39;00m\n\u001b[0;32m      2\u001b[0m grades \u001b[38;5;241m=\u001b[39m \u001b[38;5;28minput\u001b[39m(\u001b[38;5;124m\"\u001b[39m\u001b[38;5;124m학점을 입력하세요\u001b[39m\u001b[38;5;124m\"\u001b[39m)\n\u001b[1;32m----> 3\u001b[0m \u001b[43mgetMeanScore\u001b[49m(grades)\n",
      "\u001b[1;31mNameError\u001b[0m: name 'getMeanScore' is not defined"
     ]
    }
   ],
   "source": [
    "# 코드를 실행하세요.\n",
    "grades = input(\"학점을 입력하세요\")\n",
    "getMeanScore(grades)\n"
   ]
  },
  {
   "cell_type": "code",
   "execution_count": null,
   "metadata": {},
   "outputs": [],
   "source": []
  }
 ],
 "metadata": {
  "kernelspec": {
   "display_name": "Python 3 (ipykernel)",
   "language": "python",
   "name": "python3"
  },
  "language_info": {
   "codemirror_mode": {
    "name": "ipython",
    "version": 3
   },
   "file_extension": ".py",
   "mimetype": "text/x-python",
   "name": "python",
   "nbconvert_exporter": "python",
   "pygments_lexer": "ipython3",
   "version": "3.9.12"
  },
  "toc": {
   "base_numbering": 1,
   "nav_menu": {},
   "number_sections": true,
   "sideBar": true,
   "skip_h1_title": false,
   "title_cell": "Table of Contents",
   "title_sidebar": "Contents",
   "toc_cell": false,
   "toc_position": {},
   "toc_section_display": true,
   "toc_window_display": false
  },
  "varInspector": {
   "cols": {
    "lenName": 16,
    "lenType": 16,
    "lenVar": 40
   },
   "kernels_config": {
    "python": {
     "delete_cmd_postfix": "",
     "delete_cmd_prefix": "del ",
     "library": "var_list.py",
     "varRefreshCmd": "print(var_dic_list())"
    },
    "r": {
     "delete_cmd_postfix": ") ",
     "delete_cmd_prefix": "rm(",
     "library": "var_list.r",
     "varRefreshCmd": "cat(var_dic_list()) "
    }
   },
   "types_to_exclude": [
    "module",
    "function",
    "builtin_function_or_method",
    "instance",
    "_Feature"
   ],
   "window_display": false
  }
 },
 "nbformat": 4,
 "nbformat_minor": 4
}
