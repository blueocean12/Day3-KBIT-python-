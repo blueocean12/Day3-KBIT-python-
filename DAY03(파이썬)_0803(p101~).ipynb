{
 "cells": [
  {
   "cell_type": "code",
   "execution_count": 7,
   "id": "edea2c2b",
   "metadata": {},
   "outputs": [
    {
     "name": "stdout",
     "output_type": "stream",
     "text": [
      "홍\n",
      "김\n",
      "박\n",
      "홍의 점수는 70\n",
      "김의 점수는 80\n",
      "박의 점수는 90\n"
     ]
    }
   ],
   "source": [
    "# comprehension\n",
    "\n",
    "score_dict = {\"홍\":70, \"김\":80, \"박\":90}\n",
    "\n",
    "#리스트\n",
    "# []\n",
    "#딕셔너리\n",
    "# {1,2,3 } -> set #잘사용 x\n",
    "# {1:10, 2:20} -> dictionary\n",
    "\n",
    "for s in score_dict: #키 추출\n",
    "    print(s)\n",
    "\n",
    "for k,v in score_dict.items(): #key,values 추출\n",
    "    print(f\"{k}의 점수는 {v}\") #s에 튜플 형식으로 나옴"
   ]
  },
  {
   "cell_type": "code",
   "execution_count": 9,
   "id": "1d29d91f",
   "metadata": {},
   "outputs": [
    {
     "name": "stdout",
     "output_type": "stream",
     "text": [
      "ans = Hello 홍길동\n"
     ]
    }
   ],
   "source": [
    "# hello()->Hello\n",
    "\n",
    "\n",
    "def hello(name): #입력매개변수 name \n",
    "    return \"Hello \" + name #함수내에서 프린트는 테스트용 > return 사용\n",
    "\n",
    "# ans = hello() #print와 동일 #ans에 Hello값이 저장\n",
    "# print(\"ans=\" + ans)\n",
    "ans = hello(\"홍길동\")\n",
    "print(\"ans =\", ans)"
   ]
  },
  {
   "cell_type": "code",
   "execution_count": 4,
   "id": "5a62f9f9",
   "metadata": {},
   "outputs": [
    {
     "name": "stdout",
     "output_type": "stream",
     "text": [
      "<function hello at 0x0000028E8E0E2EE0>\n",
      "<function hello at 0x0000028E8E0E2EE0>\n"
     ]
    },
    {
     "data": {
      "text/plain": [
       "'Hello 김길동'"
      ]
     },
     "execution_count": 4,
     "metadata": {},
     "output_type": "execute_result"
    }
   ],
   "source": [
    "print(hello) #hello 실행코드가 위치한 주소: return \"Hello \" + name\n",
    "aa = hello #aa라는 변수도 같은 주소를 갖게 된다\n",
    "print(aa)\n",
    "aa(\"김길동\") #함수 호출 가능"
   ]
  },
  {
   "cell_type": "code",
   "execution_count": 6,
   "id": "bf764be9",
   "metadata": {},
   "outputs": [
    {
     "data": {
      "text/plain": [
       "'Hello 홍길동'"
      ]
     },
     "execution_count": 6,
     "metadata": {},
     "output_type": "execute_result"
    }
   ],
   "source": [
    "# hello = 100\n",
    "hello(\"홍길동\")\n",
    "#'int' object is not callable : 함수로 사용하던 것을 숫자로 정의하면 위와같은 오류 발생\n",
    "#해결방법 : kernel -> restart"
   ]
  },
  {
   "cell_type": "code",
   "execution_count": 11,
   "id": "b0e80689",
   "metadata": {},
   "outputs": [
    {
     "data": {
      "text/plain": [
       "1"
      ]
     },
     "execution_count": 11,
     "metadata": {},
     "output_type": "execute_result"
    }
   ],
   "source": [
    "#함수 호출(값전달)\n",
    "#위치 인수 - 매개변수의 갯수 일치가 중요\n",
    "def calc_minus(n1,n2):\n",
    "    return n1 - n2\n",
    "\n",
    "calc_minus(4,3)\n"
   ]
  },
  {
   "cell_type": "code",
   "execution_count": 12,
   "id": "fe6467ee",
   "metadata": {},
   "outputs": [
    {
     "name": "stdout",
     "output_type": "stream",
     "text": [
      "3*1=3\n",
      "3*2=6\n",
      "3*3=9\n",
      "3*4=12\n",
      "3*5=15\n",
      "3*6=18\n",
      "3*7=21\n",
      "3*8=24\n",
      "3*9=27\n"
     ]
    }
   ],
   "source": [
    "#함수 호출(값전달)\n",
    "#기본 인수 \n",
    "#구구단 출력 함수 \n",
    "def gugudan(dan) :\n",
    "    for i in range(1,10):\n",
    "        print(f\"{dan}*{i}={dan*i}\")\n",
    "\n",
    "gugudan(3) #3단 구구단 출력"
   ]
  },
  {
   "cell_type": "code",
   "execution_count": 67,
   "id": "7367529e",
   "metadata": {},
   "outputs": [
    {
     "name": "stdout",
     "output_type": "stream",
     "text": [
      "3\n",
      "6\n",
      "9\n",
      "12\n",
      "15\n",
      "18\n",
      "21\n",
      "24\n",
      "27\n",
      "4\n",
      "8\n",
      "12\n",
      "16\n",
      "20\n",
      "24\n",
      "28\n",
      "32\n",
      "36\n",
      "5\n",
      "10\n",
      "15\n",
      "20\n",
      "25\n",
      "30\n",
      "35\n",
      "40\n",
      "45\n",
      "\n"
     ]
    }
   ],
   "source": [
    "# 구구단 출력 (3-5단)\n",
    "def gugudan(dan):\n",
    "    for dan in range(3,6) :\n",
    "        for i in range(1,10):\n",
    "            print(f\"{dan*i}\") #end=\" \" :줄바꿈 문자\n",
    "    print()\n",
    "\n",
    "gugudan(3)\n",
    "# gugudan(4)\n",
    "# gugudan(5)\n",
    "# gugudan()"
   ]
  },
  {
   "cell_type": "code",
   "execution_count": 71,
   "id": "47a6fcc8",
   "metadata": {},
   "outputs": [
    {
     "name": "stdout",
     "output_type": "stream",
     "text": [
      "2 4 6 8 10 12 14 16 18 \n",
      "3 6 9 12 15 18 21 24 27 \n",
      "3 6 9 12 15 18 21 24 27 \n",
      "4 8 12 16 20 24 28 32 36 \n",
      "5 10 15 20 25 30 35 40 45 \n"
     ]
    }
   ],
   "source": [
    "def gugudan(dan=2, dan2=0) :\n",
    "    \"\"\"구구단 출력함수 #Docstring\n",
    "    \"\"\" \n",
    "    if dan2 == 0:\n",
    "        dan2 = dan\n",
    "    for d in range(dan, dan2+1): #출력 단 범위\n",
    "        for i in range(1,10):\n",
    "            print(f\"{d*i}\", end=\" \") #end=\" \" :줄바꿈 문자\n",
    "        print()\n",
    "\n",
    "\n",
    "gugudan() #2단\n",
    "gugudan(3) #3단\n",
    "gugudan(3,5) #3~5단"
   ]
  },
  {
   "cell_type": "code",
   "execution_count": 66,
   "id": "b96d4c1b",
   "metadata": {},
   "outputs": [
    {
     "name": "stdout",
     "output_type": "stream",
     "text": [
      "3 6 9 12 15 18 21 24 27 4 8 12 16 20 24 28 32 36 5 10 15 20 25 30 35 40 45 \n"
     ]
    }
   ],
   "source": [
    "def gugudan(dan1, dan2):\n",
    "    for i in range(dan1,dan2+1):\n",
    "        for j in range(1,10):\n",
    "            print(f\"{i*j}\", end=\" \")\n",
    "    print( )\n",
    "    \n",
    "gugudan(3,5)"
   ]
  },
  {
   "cell_type": "code",
   "execution_count": 72,
   "id": "f9f054ed",
   "metadata": {},
   "outputs": [],
   "source": [
    "gugudan?"
   ]
  },
  {
   "cell_type": "code",
   "execution_count": 1,
   "id": "0d046433",
   "metadata": {},
   "outputs": [
    {
     "name": "stdout",
     "output_type": "stream",
     "text": [
      "멤버수는 1\n",
      "홍길동\n",
      "멤버수는 2\n",
      "홍길동\n",
      "김길동\n",
      "멤버수는 3\n",
      "박길동\n",
      "최길동\n",
      "강길동\n"
     ]
    }
   ],
   "source": [
    "#p111 \n",
    "#가변 매개변수 - 회원등록함수\n",
    "\n",
    "def add_member(*mems):\n",
    "    print(\"멤버수는\", len(mems))\n",
    "    \n",
    "    for m in mems:\n",
    "      \n",
    "        print(m, )\n",
    "\n",
    "add_member(\"홍길동\")\n",
    "add_member(\"홍길동\", \"김길동\")\n",
    "add_member(\"박길동\", \"최길동\",\"강길동\")"
   ]
  },
  {
   "cell_type": "code",
   "execution_count": 6,
   "id": "07ccd7fe",
   "metadata": {},
   "outputs": [
    {
     "name": "stdout",
     "output_type": "stream",
     "text": [
      "['길동']\n",
      "['홍길동', '김길동']\n",
      "['박길동', '최길동', '강길동']\n"
     ]
    }
   ],
   "source": [
    "def add_member(*mems):\n",
    "    members = [] #로컬변수 - 일회용함수 \n",
    "    members.extend(mems)\n",
    "    print(members)\n",
    "    \n",
    " \n",
    "\n",
    "add_member(\"길동\")\n",
    "add_member(\"홍길동\", \"김길동\")\n",
    "add_member(\"박길동\", \"최길동\",\"강길동\")"
   ]
  },
  {
   "cell_type": "code",
   "execution_count": 11,
   "id": "8d2742ac",
   "metadata": {},
   "outputs": [
    {
     "name": "stdout",
     "output_type": "stream",
     "text": [
      "['홍길동']\n",
      "['홍길동']\n"
     ]
    }
   ],
   "source": [
    "members = [] #전역변수 (global variable)\n",
    "count=0\n",
    "def add_member(*mems):\n",
    "    global count #count는 전역변수를 쓰세요\n",
    "    members.extend(mems)\n",
    "    print(members)\n",
    "#     members.extend(mems) \n",
    "    count = count +len(mems) #로컬변수를 선언했지만 초기화가 되지 않아 오류 발생 > 글로벌변수를 사용하기 위해 내부에서 선언해주어야 한다 \n",
    "\n",
    "    \n",
    " \n",
    "\n",
    "add_member(\"홍길동\")\n",
    "print(members)\n",
    "# add_member(\"홍길동\", \"김길동\")\n",
    "# add_member(\"박길동\", \"최길동\",\"강길동\")"
   ]
  },
  {
   "cell_type": "code",
   "execution_count": 29,
   "id": "98f0e890",
   "metadata": {},
   "outputs": [
    {
     "name": "stdout",
     "output_type": "stream",
     "text": [
      "count= 3\n"
     ]
    }
   ],
   "source": [
    "#아 그런게 있구나 , 수업하고 상관없음 \n",
    "#회원등록함수 - 클로져(closure)\n",
    "def add_member():\n",
    "    members = [] #전역변수 (global variable)\n",
    "    count=0\n",
    "    #함수 안에서 선언 > 일회성 으로만 사용됨\n",
    "   \n",
    "     #로컬변수를 선언했지만 초기화가 되지 않아 오류 발생 > 글로벌변수를 사용하기 위해 내부에서 선언해주어야 한다 \n",
    "    def add(*mems):\n",
    "        nonlocal count\n",
    "        members.extend(mems)\n",
    "        count = count +len(mems)\n",
    "        \n",
    "    def print_info():\n",
    "        print(\"count=\", count)\n",
    "  \n",
    "    return add, print_info\n",
    " \n",
    "\n",
    "a, p = add_member()\n",
    "a(\"홍길동\")\n",
    "a(\"홍길동\", \"김길동\")\n",
    "p()\n",
    "# p= add_member(\"홍길동\", \"김길동\")\n",
    "# p()\n",
    "# p=add_member(\"박길동\", \"최길동\",\"강길동\")\n",
    "# p()"
   ]
  },
  {
   "cell_type": "code",
   "execution_count": 32,
   "id": "b8d894e5",
   "metadata": {},
   "outputs": [
    {
     "name": "stdout",
     "output_type": "stream",
     "text": [
      "(20, 30)\n"
     ]
    }
   ],
   "source": [
    "def my_plus(a, *args):\n",
    "    print(args)\n",
    "\n",
    "my_plus(10,20,30) #10은 a로 저장, 20,30로 출력"
   ]
  },
  {
   "cell_type": "code",
   "execution_count": 36,
   "id": "3c02b9c9",
   "metadata": {},
   "outputs": [
    {
     "name": "stdout",
     "output_type": "stream",
     "text": [
      "100\n",
      "200\n"
     ]
    }
   ],
   "source": [
    "#p113 -2 연습문제\n",
    "\n",
    "def calc_many(choice,*args):\n",
    "\n",
    "    if choice == \"sum\":\n",
    "        return sum(args)\n",
    "          \n",
    "    if choice == 'mul':\n",
    "        result =1\n",
    "        for i in args:\n",
    "            result *=i\n",
    "        return result \n",
    "\n",
    "print(calc_many(\"sum\", 10,20,30,40))\n",
    "print(calc_many(\"mul\", 10,20))"
   ]
  },
  {
   "cell_type": "code",
   "execution_count": 37,
   "id": "bf09c935",
   "metadata": {},
   "outputs": [],
   "source": [
    "#p115 람다함수\n",
    "#return값안씀 무조건 반환되기 떄문에\n",
    "#일반적으로 잘안쓰지만 간단한 가공으로 많이 사용\n",
    "\n"
   ]
  },
  {
   "cell_type": "code",
   "execution_count": 38,
   "id": "96e7aa3f",
   "metadata": {},
   "outputs": [
    {
     "data": {
      "text/plain": [
       "['ArithmeticError',\n",
       " 'AssertionError',\n",
       " 'AttributeError',\n",
       " 'BaseException',\n",
       " 'BlockingIOError',\n",
       " 'BrokenPipeError',\n",
       " 'BufferError',\n",
       " 'BytesWarning',\n",
       " 'ChildProcessError',\n",
       " 'ConnectionAbortedError',\n",
       " 'ConnectionError',\n",
       " 'ConnectionRefusedError',\n",
       " 'ConnectionResetError',\n",
       " 'DeprecationWarning',\n",
       " 'EOFError',\n",
       " 'Ellipsis',\n",
       " 'EnvironmentError',\n",
       " 'Exception',\n",
       " 'False',\n",
       " 'FileExistsError',\n",
       " 'FileNotFoundError',\n",
       " 'FloatingPointError',\n",
       " 'FutureWarning',\n",
       " 'GeneratorExit',\n",
       " 'IOError',\n",
       " 'ImportError',\n",
       " 'ImportWarning',\n",
       " 'IndentationError',\n",
       " 'IndexError',\n",
       " 'InterruptedError',\n",
       " 'IsADirectoryError',\n",
       " 'KeyError',\n",
       " 'KeyboardInterrupt',\n",
       " 'LookupError',\n",
       " 'MemoryError',\n",
       " 'ModuleNotFoundError',\n",
       " 'NameError',\n",
       " 'None',\n",
       " 'NotADirectoryError',\n",
       " 'NotImplemented',\n",
       " 'NotImplementedError',\n",
       " 'OSError',\n",
       " 'OverflowError',\n",
       " 'PendingDeprecationWarning',\n",
       " 'PermissionError',\n",
       " 'ProcessLookupError',\n",
       " 'RecursionError',\n",
       " 'ReferenceError',\n",
       " 'ResourceWarning',\n",
       " 'RuntimeError',\n",
       " 'RuntimeWarning',\n",
       " 'StopAsyncIteration',\n",
       " 'StopIteration',\n",
       " 'SyntaxError',\n",
       " 'SyntaxWarning',\n",
       " 'SystemError',\n",
       " 'SystemExit',\n",
       " 'TabError',\n",
       " 'TimeoutError',\n",
       " 'True',\n",
       " 'TypeError',\n",
       " 'UnboundLocalError',\n",
       " 'UnicodeDecodeError',\n",
       " 'UnicodeEncodeError',\n",
       " 'UnicodeError',\n",
       " 'UnicodeTranslateError',\n",
       " 'UnicodeWarning',\n",
       " 'UserWarning',\n",
       " 'ValueError',\n",
       " 'Warning',\n",
       " 'WindowsError',\n",
       " 'ZeroDivisionError',\n",
       " '__IPYTHON__',\n",
       " '__build_class__',\n",
       " '__debug__',\n",
       " '__doc__',\n",
       " '__import__',\n",
       " '__loader__',\n",
       " '__name__',\n",
       " '__package__',\n",
       " '__spec__',\n",
       " 'abs',\n",
       " 'all',\n",
       " 'any',\n",
       " 'ascii',\n",
       " 'bin',\n",
       " 'bool',\n",
       " 'breakpoint',\n",
       " 'bytearray',\n",
       " 'bytes',\n",
       " 'callable',\n",
       " 'chr',\n",
       " 'classmethod',\n",
       " 'compile',\n",
       " 'complex',\n",
       " 'copyright',\n",
       " 'credits',\n",
       " 'delattr',\n",
       " 'dict',\n",
       " 'dir',\n",
       " 'display',\n",
       " 'divmod',\n",
       " 'enumerate',\n",
       " 'eval',\n",
       " 'exec',\n",
       " 'execfile',\n",
       " 'filter',\n",
       " 'float',\n",
       " 'format',\n",
       " 'frozenset',\n",
       " 'get_ipython',\n",
       " 'getattr',\n",
       " 'globals',\n",
       " 'hasattr',\n",
       " 'hash',\n",
       " 'help',\n",
       " 'hex',\n",
       " 'id',\n",
       " 'input',\n",
       " 'int',\n",
       " 'isinstance',\n",
       " 'issubclass',\n",
       " 'iter',\n",
       " 'len',\n",
       " 'license',\n",
       " 'list',\n",
       " 'locals',\n",
       " 'map',\n",
       " 'max',\n",
       " 'memoryview',\n",
       " 'min',\n",
       " 'next',\n",
       " 'object',\n",
       " 'oct',\n",
       " 'open',\n",
       " 'ord',\n",
       " 'pow',\n",
       " 'print',\n",
       " 'property',\n",
       " 'range',\n",
       " 'repr',\n",
       " 'reversed',\n",
       " 'round',\n",
       " 'runfile',\n",
       " 'set',\n",
       " 'setattr',\n",
       " 'slice',\n",
       " 'sorted',\n",
       " 'staticmethod',\n",
       " 'str',\n",
       " 'sum',\n",
       " 'super',\n",
       " 'tuple',\n",
       " 'type',\n",
       " 'vars',\n",
       " 'zip']"
      ]
     },
     "execution_count": 38,
     "metadata": {},
     "output_type": "execute_result"
    }
   ],
   "source": [
    "# dir:변수가 가르키는 객체의 내부구조 출력 \n",
    "#__ : 공개되지 x\n",
    "#언더바 없는것 :오픈 되어 있는 내장함수\n",
    "dir(__builtin__)"
   ]
  },
  {
   "cell_type": "code",
   "execution_count": 40,
   "id": "d6faeb3d",
   "metadata": {
    "scrolled": true
   },
   "outputs": [
    {
     "name": "stdout",
     "output_type": "stream",
     "text": [
      "0 a\n",
      "1 b\n",
      "2 c\n"
     ]
    }
   ],
   "source": [
    "#p117 enumerate : 순번이 필요할 때\n",
    "aa = ['a','b','c']\n",
    "for i,v in enumerate(aa):\n",
    "    print(i,v)"
   ]
  },
  {
   "cell_type": "code",
   "execution_count": 44,
   "id": "e2f6dee3",
   "metadata": {},
   "outputs": [
    {
     "name": "stdout",
     "output_type": "stream",
     "text": [
      "홍 70 70\n",
      "김 80 70\n",
      "이 90 90\n"
     ]
    }
   ],
   "source": [
    "#zip\n",
    "names=[\"홍\",\"김\",\"이\"]\n",
    "scores_eng=[70,80,90]\n",
    "scores_math=[70,70,90]\n",
    "for n,s,m in zip(names, scores_eng, scores_math):\n",
    "    print(n,s,m)"
   ]
  },
  {
   "cell_type": "code",
   "execution_count": 48,
   "id": "fb8904f6",
   "metadata": {},
   "outputs": [
    {
     "data": {
      "text/plain": [
       "[1, 4, 9, 16]"
      ]
     },
     "execution_count": 48,
     "metadata": {},
     "output_type": "execute_result"
    }
   ],
   "source": [
    "#p119 map\n",
    "a = [1,2,3,4]\n",
    "def sq(x):\n",
    "    return x**2\n",
    "list(map(lambda x: x**2, a)) #list를 통해 주소값에서 실제 출력값으로 변환시켜준다\n",
    "list(map(sq,a)) "
   ]
  },
  {
   "cell_type": "code",
   "execution_count": 49,
   "id": "c9b659b1",
   "metadata": {},
   "outputs": [
    {
     "data": {
      "text/plain": [
       "[2, 4, 6, 8, 10]"
      ]
     },
     "execution_count": 49,
     "metadata": {},
     "output_type": "execute_result"
    }
   ],
   "source": [
    "#119 filter: 조건이 참인 것만 추린다\n",
    "a=[1,2,3,4,5,6,7,8,9,10]\n",
    "new_a = list(filter(lambda x: x%2==0, a))\n",
    "new_a"
   ]
  },
  {
   "cell_type": "code",
   "execution_count": 60,
   "id": "80cd46a0",
   "metadata": {},
   "outputs": [
    {
     "data": {
      "text/plain": [
       "[1, 2, 3, 4, 5, 6, 7, 8, 9, 10]"
      ]
     },
     "execution_count": 60,
     "metadata": {},
     "output_type": "execute_result"
    }
   ],
   "source": [
    "# list(filter(lambda x:x%2==0   ,a ) )\n",
    "a=range(1,11)\n",
    "def is_even(a):\n",
    "    return -1\n",
    "\n",
    "list(filter(is_even ,a ) )"
   ]
  },
  {
   "cell_type": "code",
   "execution_count": 1,
   "id": "8b5a04ed",
   "metadata": {},
   "outputs": [
    {
     "ename": "SyntaxError",
     "evalue": "invalid syntax (2803784105.py, line 45)",
     "output_type": "error",
     "traceback": [
      "\u001b[1;36m  Input \u001b[1;32mIn [1]\u001b[1;36m\u001b[0m\n\u001b[1;33m    else\u001b[0m\n\u001b[1;37m        ^\u001b[0m\n\u001b[1;31mSyntaxError\u001b[0m\u001b[1;31m:\u001b[0m invalid syntax\n"
     ]
    }
   ],
   "source": [
    "#지뢰찾기(빨리찾아 터트리기)\n",
    "#필드(2차원 리스트 10*10 )\n",
    "fields = list()#2차원 리스트 저장타입은 숫자로\n",
    "for i in range(10):\n",
    "    fields.append([0]*10)\n",
    "fields\n",
    "# 10개의 지뢰를 임의의 위치에 저장\n",
    "import random\n",
    "nums = list(range(100))\n",
    "for i in random.sample(nums,10):\n",
    "    row = i //10 #행 몫\n",
    "    col = i % 10#열 나머지\n",
    "    fields[row][col] = 9 #지뢰위치\n",
    "\n",
    "    #8방위치 1증가\n",
    "    if row < (len(fields)-1):\n",
    "        fields[row+1][col] +=1 #남쪽\n",
    "    \n",
    "    if row < (len(fields)-1) and col < (len(fields)-1):\n",
    "        fields[row+1][col+1] +=1 #남동쪽\n",
    "    \n",
    "    if col < (len(fields)-1) :\n",
    "        fields[row][col+1] +=1 #동쪽\n",
    "    \n",
    "    if row > 0 and col < (len(fields)-1):\n",
    "    \n",
    "        fields[row-1][col+1] +=1 #북동쪽\n",
    "    \n",
    "    if row > 0:   \n",
    "        fields[row-1][col] +=1 #북쪽\n",
    "    \n",
    "    if row > 0 and col > 0:\n",
    "        fields[row-1][col-1] +=1 #북서쪽\n",
    "    if col >0 :\n",
    "        fields[row][col-1] +=1 #서쪽\n",
    "    if row < (len(fields)-1) and col>0:\n",
    "        fields[row+1][col-1] +=1 #남서쪽\n",
    "    #조건추가: 변 모서리 부분에는 또 다른 경우를 넣어줘야함\n",
    "    \n",
    "    \n",
    "    \n",
    "    \n",
    "    if fields[col][row] >= 9 :\n",
    "        print(\"지뢰가 발견되었습니다. 추카추카\")\n",
    "    else\n",
    "    #클릭한 부분에 숫자를 보여준다.\n",
    "        print(fields[row][col])\n",
    "    #9이상일때 지뢰가 존재한다. 그 외에는 클릭한 부분에 덮는다   \n",
    "    \n",
    "        \n",
    "    \n",
    "fields \n",
    "\n",
    "# 0~99까지의 숫자를 섞어야한다. \n",
    "# random - shuffle , choice, \n",
    "\n",
    "# row = random.randint(1,10)\n",
    "# col = random.randint(1,10)\n"
   ]
  },
  {
   "cell_type": "code",
   "execution_count": 2,
   "id": "322c9f33",
   "metadata": {
    "scrolled": true
   },
   "outputs": [
    {
     "ename": "NameError",
     "evalue": "name 'fields' is not defined",
     "output_type": "error",
     "traceback": [
      "\u001b[1;31m---------------------------------------------------------------------------\u001b[0m",
      "\u001b[1;31mNameError\u001b[0m                                 Traceback (most recent call last)",
      "Input \u001b[1;32mIn [2]\u001b[0m, in \u001b[0;36m<cell line: 8>\u001b[1;34m()\u001b[0m\n\u001b[0;32m      9\u001b[0m row \u001b[38;5;241m=\u001b[39m i \u001b[38;5;241m/\u001b[39m\u001b[38;5;241m/\u001b[39m\u001b[38;5;241m10\u001b[39m \u001b[38;5;66;03m#행 몫\u001b[39;00m\n\u001b[0;32m     10\u001b[0m col \u001b[38;5;241m=\u001b[39m i \u001b[38;5;241m%\u001b[39m \u001b[38;5;241m10\u001b[39m\u001b[38;5;66;03m#열 나머지\u001b[39;00m\n\u001b[1;32m---> 11\u001b[0m \u001b[43mfields\u001b[49m[row][col] \u001b[38;5;241m=\u001b[39m \u001b[38;5;241m9\u001b[39m \u001b[38;5;66;03m#지뢰위치\u001b[39;00m\n\u001b[0;32m     13\u001b[0m \u001b[38;5;66;03m#8방위치 1증가\u001b[39;00m\n\u001b[0;32m     14\u001b[0m \u001b[38;5;28;01mif\u001b[39;00m row \u001b[38;5;241m<\u001b[39m (\u001b[38;5;28mlen\u001b[39m(fields)\u001b[38;5;241m-\u001b[39m\u001b[38;5;241m1\u001b[39m):\n",
      "\u001b[1;31mNameError\u001b[0m: name 'fields' is not defined"
     ]
    }
   ],
   "source": [
    "# 오픈한 자리의 숫자를 보기위한 2차원 리스트만들기\n",
    "fields2 = []\n",
    "for i in range(10):\n",
    "    fields2.append([\"-\"]*10)\n",
    "    \n",
    "import random\n",
    "nums = list(range(100))\n",
    "for i in random.sample(nums,10):\n",
    "    row = i //10 #행 몫\n",
    "    col = i % 10#열 나머지\n",
    "    fields[row][col] = 9 #지뢰위치\n",
    "\n",
    "    #8방위치 1증가\n",
    "    if row < (len(fields)-1):\n",
    "        fields[row+1][col] +=1 #남쪽\n",
    "    \n",
    "    if row < (len(fields)-1) and col < (len(fields)-1):\n",
    "        fields[row+1][col+1] +=1 #남동쪽\n",
    "    \n",
    "    if col < (len(fields)-1) :\n",
    "        fields[row][col+1] +=1 #동쪽\n",
    "    \n",
    "    if row > 0 and col < (len(fields)-1):\n",
    "    \n",
    "        fields[row-1][col+1] +=1 #북동쪽\n",
    "    \n",
    "    if row > 0:   \n",
    "        fields[row-1][col] +=1 #북쪽\n",
    "    \n",
    "    if row > 0 and col > 0:\n",
    "        fields[row-1][col-1] +=1 #북서쪽\n",
    "    if col >0 :\n",
    "        fields[row][col-1] +=1 #서쪽\n",
    "    if row < (len(fields)-1) and col>0:\n",
    "        fields[row+1][col-1] +=1 #남서쪽\n",
    "        \n",
    "fields2\n",
    "\n",
    "findMineCounter = 0 #찾은 지뢰갯수\n",
    "\n",
    "while findMineCounter !=10: \n",
    "    # 오픈한 좌표 입력받기\n",
    "    row = int(input(\"행좌표 입력(0~9)\"))\n",
    "    col = int(input(\"열좌표 입력(0~9)\"))\n",
    "        #조건추가: 변 모서리 부분에는 또 다른 경우를 넣어줘야함\n",
    "    # fields의 오픈할 좌표값을 출력용 2차원배열에 복사\n",
    "    fields2[row][col] = str(fields[row][col])\n",
    "\n",
    "    # 출력용 2차원배열 출력\n",
    "    display(fields2)\n",
    "    # 만약 지뢰좌표이면 남은 지뢰수 표시\n",
    "    if fields[row][col] >= 9 :\n",
    "        findMineCounter +=1\n",
    "        print(\"**지뢰를 찾았습니다**\")\n",
    "        print(f\"{10-findMineCounter}개 남았습니다.\")\n",
    "    # 만약 모든 지뢰오픈했다면 게임종료, 아니면 2번부터 다시"
   ]
  },
  {
   "cell_type": "code",
   "execution_count": null,
   "id": "3852eac7",
   "metadata": {},
   "outputs": [],
   "source": [
    "#p120 클래스 \n"
   ]
  }
 ],
 "metadata": {
  "kernelspec": {
   "display_name": "Python 3 (ipykernel)",
   "language": "python",
   "name": "python3"
  },
  "language_info": {
   "codemirror_mode": {
    "name": "ipython",
    "version": 3
   },
   "file_extension": ".py",
   "mimetype": "text/x-python",
   "name": "python",
   "nbconvert_exporter": "python",
   "pygments_lexer": "ipython3",
   "version": "3.9.12"
  }
 },
 "nbformat": 4,
 "nbformat_minor": 5
}
